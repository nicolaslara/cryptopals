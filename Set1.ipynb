{
 "cells": [
  {
   "cell_type": "code",
   "execution_count": 8,
   "metadata": {
    "collapsed": true
   },
   "outputs": [],
   "source": [
    "import codecs\n",
    "import operator\n",
    "from typing import List\n",
    "\n",
    "def bytes2hex(b: bytes) -> bytes:\n",
    "    #return b.hex().encode()\n",
    "    return codecs.encode(b, 'hex')\n",
    "    \n",
    "def str2hex(s: str, encoding='utf-8') -> bytes:\n",
    "    return bytes2hex(s.encode(encoding))\n",
    "\n",
    "def hex2bytes(x: bytes) -> bytes:\n",
    "    #return bytes.fromhex(x.decode())\n",
    "    return codecs.decode(x, 'hex')\n",
    "\n",
    "\n",
    "def int2hex(x: int, encoding='utf-8') -> bytes:\n",
    "    return '{:02x}'.format(x).encode(encoding)\n",
    "\n",
    "def hex2int(x: str) -> int:\n",
    "    return int(x, 16)\n",
    "\n",
    "assert str2hex(\"the kids don't play\") == b'746865206b69647320646f6e277420706c6179'\n",
    "assert hex2bytes(str2hex(\"the kids don't play\")) == b\"the kids don't play\"\n",
    "assert int2hex(255) == b'ff'\n",
    "assert hex2int(int2hex(255)) == 255\n",
    "\n",
    "# standard byte transformations\n",
    "assert bytes.fromhex(\"the kids don't play\".encode().hex()) == b\"the kids don't play\"\n",
    "\n",
    "# just some notes on int conversion\n",
    "assert int.from_bytes(b'1c0111001f010100061a024b53535009181c', byteorder='big').to_bytes(36, byteorder='big') == b'1c0111001f010100061a024b53535009181c'\n",
    "\n",
    "#type(list(zip(b'1c0111001f010100061a024b53535009181c', b'686974207468652062756c6c277320657965'))[0][0])"
   ]
  },
  {
   "cell_type": "code",
   "execution_count": 9,
   "metadata": {},
   "outputs": [
    {
     "data": {
      "text/plain": [
       "True"
      ]
     },
     "execution_count": 9,
     "metadata": {},
     "output_type": "execute_result"
    }
   ],
   "source": [
    "# s1c1\n",
    "# http://cryptopals.com/sets/1/challenges/3\n",
    "import base64\n",
    "import codecs\n",
    "\n",
    "def hex_to_b64(b: bytes) -> str:\n",
    "    return base64.b64encode(hex2bytes(b))\n",
    "\n",
    "hex_to_b64(b'49276d206b696c6c696e6720796f757220627261696e206c696b65206120706f69736f6e6f7573206d757368726f6f6d') == b'SSdtIGtpbGxpbmcgeW91ciBicmFpbiBsaWtlIGEgcG9pc29ub3VzIG11c2hyb29t'"
   ]
  },
  {
   "cell_type": "code",
   "execution_count": 10,
   "metadata": {},
   "outputs": [
    {
     "name": "stdout",
     "output_type": "stream",
     "text": [
      "b'746865206b696420646f6e277420706c6179'\n"
     ]
    },
    {
     "data": {
      "text/plain": [
       "True"
      ]
     },
     "execution_count": 10,
     "metadata": {},
     "output_type": "execute_result"
    }
   ],
   "source": [
    "# s1c2\n",
    "# http://cryptopals.com/sets/1/challenges/2\n",
    "# Write a function that takes two equal-length buffers and produces their XOR combination.\n",
    "import itertools\n",
    "from typing import Tuple\n",
    "\n",
    "b1 = b'1c0111001f010100061a024b53535009181c'\n",
    "b2 = b'686974207468652062756c6c277320657965'\n",
    "\n",
    "def xor_bytes(b1: bytes, b2: bytes, padding: int=0) -> bytes:\n",
    "    return bytes(i^j for i,j in itertools.zip_longest(b1, b2, fillvalue=padding))\n",
    "\n",
    "def xor_hex(b1: bytes, b2: bytes, padding: int=0) -> str:\n",
    "    return bytes2hex(bytes(i^j for i,j in itertools.zip_longest(hex2bytes(b1), hex2bytes(b2), fillvalue=padding)))\n",
    "\n",
    "print(bytes2hex(xor_bytes(hex2bytes(b1), hex2bytes(b2))))\n",
    "\n",
    "# test\n",
    "bytes2hex(xor_bytes(hex2bytes(b1), hex2bytes(b2))) == b'746865206b696420646f6e277420706c6179'\n"
   ]
  },
  {
   "cell_type": "code",
   "execution_count": null,
   "metadata": {
    "collapsed": true
   },
   "outputs": [],
   "source": []
  },
  {
   "cell_type": "code",
   "execution_count": 11,
   "metadata": {
    "scrolled": false
   },
   "outputs": [
    {
     "name": "stdout",
     "output_type": "stream",
     "text": [
      "(2.2004246999999997, b\"Cooking MC's like a pound of bacon\", 88)\n"
     ]
    }
   ],
   "source": [
    "# s1c3\n",
    "# http://cryptopals.com/sets/1/challenges/3\n",
    "# Decrypt the string that has been xor'd with a single character\n",
    "import string\n",
    "from typing import Callable\n",
    "\n",
    "b = b'1b37373331363f78151b7f2b783431333d78397828372d363c78373e783a393b3736'\n",
    "\n",
    "\n",
    "frequency = {\n",
    "    'a': 0.0651738,\n",
    "    'b': 0.0124248,\n",
    "    'c': 0.0217339,\n",
    "    'd': 0.0349835,\n",
    "    'e': 0.1041442,\n",
    "    'f': 0.0197881,\n",
    "    'g': 0.0158610,\n",
    "    'h': 0.0492888,\n",
    "    'i': 0.0558094,\n",
    "    'j': 0.0009033,\n",
    "    'k': 0.0050529,\n",
    "    'l': 0.0331490,\n",
    "    'm': 0.0202124,\n",
    "    'n': 0.0564513,\n",
    "    'o': 0.0596302,\n",
    "    'p': 0.0137645,\n",
    "    'q': 0.0008606,\n",
    "    'r': 0.0497563,\n",
    "    's': 0.0515760,\n",
    "    't': 0.0729357,\n",
    "    'u': 0.0225134,\n",
    "    'v': 0.0082903,\n",
    "    'w': 0.0171272,\n",
    "    'x': 0.0013692,\n",
    "    'y': 0.0145984,\n",
    "    'z': 0.0007836,\n",
    "    ' ': 0.1918182,}\n",
    "\n",
    "\n",
    "def score_engrams(plain: bytes) -> float:\n",
    "    return sum(frequency.get(i, 0) for i in plain.decode(errors='ignore'))\n",
    "\n",
    "def decode_single_xor(cipher: bytes, score_func: Callable=score_engrams):\n",
    "    for i in range(255):\n",
    "        plain = xor_bytes(cipher, [i], padding=int(i))\n",
    "        yield score_engrams(plain), plain, i\n",
    "\n",
    "\n",
    "print(max(decode_single_xor(hex2bytes(b))))\n",
    "assert max(decode_single_xor(hex2bytes(b)))[1] == b\"Cooking MC's like a pound of bacon\""
   ]
  },
  {
   "cell_type": "code",
   "execution_count": 12,
   "metadata": {},
   "outputs": [
    {
     "name": "stdout",
     "output_type": "stream",
     "text": [
      "(2.0316805000000002, b'Now that the party is jumping\\n', 53)\n"
     ]
    }
   ],
   "source": [
    "# s1c4\n",
    "# http://cryptopals.com/sets/1/challenges/4\n",
    "# Detect single-character XOR from file\n",
    "from typing import List\n",
    "\n",
    "bigram_freq = {\n",
    " 'th': 1.52,\n",
    " 'en': 0.55,\n",
    " 'ng': 0.18,\n",
    " 'he': 1.28,\n",
    " 'ed': 0.53,\n",
    " 'of': 0.16,\n",
    " 'in': 0.94,\n",
    " 'to': 0.52,\n",
    " 'al': 0.09,\n",
    " 'er': 0.94,\n",
    " 'it': 0.50,\n",
    " 'de': 0.09,\n",
    " 'an': 0.82,\n",
    " 'ou': 0.50,\n",
    " 'se': 0.08,\n",
    " 're': 0.68,\n",
    " 'ea': 0.47,\n",
    " 'le': 0.08,\n",
    " 'nd': 0.63,\n",
    " 'hi': 0.46,\n",
    " 'sa': 0.06,\n",
    " 'at': 0.59,\n",
    " 'is': 0.46,\n",
    " 'si': 0.05,\n",
    " 'on': 0.57,\n",
    " 'or': 0.43,\n",
    " 'ar': 0.04,\n",
    " 'nt': 0.56,\n",
    " 'ti': 0.34,\n",
    " 've': 0.04,\n",
    " 'ha': 0.56,\n",
    " 'as': 0.33,\n",
    " 'ra': 0.04,\n",
    " 'es': 0.56,\n",
    " 'te': 0.27,\n",
    " 'ld': 0.02,\n",
    " 'st': 0.55,\n",
    " 'et': 0.19,\n",
    " 'ur': 0.02,\n",
    "}\n",
    "\n",
    "def pairwise(iterable):\n",
    "    \"s -> (s0,s1), (s1,s2), (s2, s3), ...\"\n",
    "    a, b = itertools.tee(iterable)\n",
    "    next(b, None)\n",
    "    return zip(a, b)\n",
    "\n",
    "def score_bigrams(plain: str) -> float:\n",
    "    score = sum(frequency.get(i, 0) for i in plain)\n",
    "    score += sum(bigram_freq.get(i+j, 0) for i,j in pairwise(plain))\n",
    "    return score\n",
    "\n",
    "f = open('4.txt')\n",
    "ciphers = list(map(str.strip, f.readlines()))\n",
    "\n",
    "\n",
    "def decypher_list_of_xors(ciphers: List[str]):\n",
    "    for cipher in ciphers:\n",
    "        yield from decode_single_xor(hex2bytes(cipher.encode()), score_bigrams)\n",
    "            \n",
    "result = max(decypher_list_of_xors(ciphers))\n",
    "print(result)\n",
    "assert result[1] == b'Now that the party is jumping\\n'"
   ]
  },
  {
   "cell_type": "code",
   "execution_count": 13,
   "metadata": {},
   "outputs": [
    {
     "name": "stdout",
     "output_type": "stream",
     "text": [
      "b'0b3637272a2b2e63622c2e69692a23693a2a3c6324202d623d63343c2a26226324272765272a282b2f20430a652e2c652a3124333a653e2b2027630c692b20283165286326302e27282f'\n"
     ]
    }
   ],
   "source": [
    "# s1c5\n",
    "# http://cryptopals.com/sets/1/challenges/5\n",
    "# Encrypt with a repeating key\n",
    "plain = b'''Burning 'em, if you ain't quick and nimble\n",
    "I go crazy when I hear a cymbal'''\n",
    "\n",
    "import itertools\n",
    "\n",
    "def encrypt_repeating(plain: bytes, key: bytes):\n",
    "        return xor_bytes(plain, bytes(itertools.islice(itertools.cycle(key), len(plain))))\n",
    "      \n",
    "print(bytes2hex(encrypt_repeating(plain, b'ICE')))\n",
    "# test\n",
    "assert bytes2hex(encrypt_repeating(plain, b'ICE')) == b'0b3637272a2b2e63622c2e69692a23693a2a3c6324202d623d63343c2a26226324272765272a282b2f20430a652e2c652a3124333a653e2b2027630c692b20283165286326302e27282f'"
   ]
  },
  {
   "cell_type": "code",
   "execution_count": 14,
   "metadata": {},
   "outputs": [
    {
     "name": "stdout",
     "output_type": "stream",
     "text": [
      "keysize: (2.055555555555556, 3)\n",
      "key: b'ABC'\n",
      "decrypted: b'this is a test and a longer test'\n",
      "\n",
      "keysize: (2.7471264367816093, 29)\n",
      "key: b'Terminator X: Bring the noise'\n",
      "decrypted: b\"I'm back and I'm ringin' the bell \\nA rockin' on the mike while the fly girls yell \\nIn ecstasy in the back of me \\nWell that's my DJ Deshay cuttin' all them Z's \\nHittin' hard and the girlies goin' crazy \\nVanilla's on the mike, man I'm not lazy. \\n\\nI'm lettin' my drug kick in \\nIt controls my mouth and I begin \\nTo just let it flow, let my concepts go \\nMy posse's to the side yellin', Go Vanilla Go! \\n\\nSmooth 'cause that's the way I will be \\nAnd if you don't give a damn, then \\nWhy you starin' at me \\nSo get off 'cause I control the stage \\nThere's no dissin' allowed \\nI'm in my own phase \\nThe girlies sa y they love me and that is ok \\nAnd I can dance better than any kid n' play \\n\\nStage 2 -- Yea the one ya' wanna listen to \\nIt's off my head so let the beat play through \\nSo I can funk it up and make it sound good \\n1-2-3 Yo -- Knock on some wood \\nFor good luck, I like my rhymes atrocious \\nSupercalafragilisticexpialidocious \\nI'm an effect and that you can bet \\nI can take a fly girl and make her wet. \\n\\nI'm like Samson -- Samson to Delilah \\nThere's no denyin', You can try to hang \\nBut you'll keep tryin' to get my style \\nOver and over, practice makes perfect \\nBut not if you're a loafer. \\n\\nYou'll get nowhere, no place, no time, no girls \\nSoon -- Oh my God, homebody, you probably eat \\nSpaghetti with a spoon! Come on and say it! \\n\\nVIP. Vanilla Ice yep, yep, I'm comin' hard like a rhino \\nIntoxicating so you stagger like a wino \\nSo punks stop trying and girl stop cryin' \\nVanilla Ice is sellin' and you people are buyin' \\n'Cause why the freaks are jockin' like Crazy Glue \\nMovin' and groovin' trying to sing along \\nAll through the ghetto groovin' this here song \\nNow you're amazed by the VIP posse. \\n\\nSteppin' so hard like a German Nazi \\nStartled by the bases hittin' ground \\nThere's no trippin' on mine, I'm just gettin' down \\nSparkamatic, I'm hangin' tight like a fanatic \\nYou trapped me once and I thought that \\nYou might have it \\nSo step down and lend me your ear \\n'89 in my time! You, '90 is my year. \\n\\nYou're weakenin' fast, YO! and I can tell it \\nYour body's gettin' hot, so, so I can smell it \\nSo don't be mad and don't be sad \\n'Cause the lyrics belong to ICE, You can call me Dad \\nYou're pitchin' a fit, so step back and endure \\nLet the witch doctor, Ice, do the dance to cure \\nSo come up close and don't be square \\nYou wanna battle me -- Anytime, anywhere \\n\\nYou thought that I was weak, Boy, you're dead wrong \\nSo come on, everybody and sing this song \\n\\nSay -- Play that funky music Say, go white boy, go white boy go \\nplay that funky music Go white boy, go white boy, go \\nLay down and boogie and play that funky music till you die. \\n\\nPlay that funky music Come on, Come on, let me hear \\nPlay that funky music white boy you say it, say it \\nPlay that funky music A little louder now \\nPlay that funky music, white boy Come on, Come on, Come on \\nPlay that funky music \\n\"\n"
     ]
    }
   ],
   "source": [
    "# s1c6\n",
    "# http://cryptopals.com/sets/1/challenges/6\n",
    "# Decrypt 6.txt (it's been encrypted with a repeating XOR and base64'd)\n",
    "\n",
    "def hamming_distance(b1: bytes, b2: bytes) -> int:\n",
    "    return sum(bin(i^j).count('1') for i, j in zip(b1, b2))\n",
    "\n",
    "assert hamming_distance(b'this is a test', b'wokka wokka!!!') == 37, 'Hamming distance fails'\n",
    "\n",
    "def chunks(l, n):\n",
    "    for i in range(0, len(l), n):\n",
    "        yield l[i:i + n]\n",
    "\n",
    "\n",
    "def most_likely_key(cipher, min_key=2, max_key=40):\n",
    "    max_key = int(min(max_key, len(cipher)/4)) # Don't accept keys that are too large.\n",
    "    best = (2**63-1, None)  # Infinite score\n",
    "    for k in range(min_key, max_key+1):\n",
    "        blocks = itertools.islice(chunks(cipher, k), 4)  # Just use the first 4 blocks of k length\n",
    "        pairs = itertools.combinations(blocks, r=2)\n",
    "        distances = list(hamming_distance(i,j)/k for i,j in pairs)\n",
    "        if not distances:\n",
    "            break\n",
    "        score = sum(distances)/len(distances)\n",
    "        best = min(best, (score, k))\n",
    "    return best\n",
    "    \n",
    "\n",
    "def break_repeating(cipher):\n",
    "    keysize = most_likely_key(cipher)[1]\n",
    "    t_blocks = itertools.zip_longest(*chunks(cipher, keysize), fillvalue=0)  # Transpose the blocks\n",
    "    keychars = []\n",
    "    for block in (bytes(i) for i in t_blocks): \n",
    "        keychars.append(max(decode_single_xor(block))[2])\n",
    "    return bytes(keychars)\n",
    "\n",
    "\n",
    "# Test\n",
    "cipher = encrypt_repeating(b'this is a test and a longer test', b'ABC')\n",
    "print('keysize: {}'.format(most_likely_key(cipher)))\n",
    "print('key: {}'.format(break_repeating(cipher)))\n",
    "print('decrypted: {}'.format(encrypt_repeating(cipher, break_repeating(cipher))))\n",
    "print()\n",
    "\n",
    "cipher = base64.b64decode(open('6.txt').read())\n",
    "print('keysize: {}'.format(most_likely_key(cipher)))\n",
    "print('key: {}'.format(break_repeating(cipher)))\n",
    "print('decrypted: {}'.format(encrypt_repeating(cipher, break_repeating(cipher))))"
   ]
  },
  {
   "cell_type": "code",
   "execution_count": 16,
   "metadata": {},
   "outputs": [
    {
     "name": "stdout",
     "output_type": "stream",
     "text": [
      "Requirement already satisfied: pycrypto in /Users/nicolas/.pyenv/versions/3.6.1/envs/generic_jupyter/lib/python3.6/site-packages\r\n"
     ]
    },
    {
     "data": {
      "text/plain": [
       "b\"I'm back and I'm ringin' the bell \\nA rockin' on the mike while the fly girls yell \\nIn ecstasy in the back of me \\nWell that's my DJ Deshay cuttin' all them Z's \\nHittin' hard and the girlies goin' crazy \\nVanilla's on the mike, man I'm not lazy. \\n\\nI'm lettin' my drug kick in \\nIt controls my mouth and I begin \\nTo just let it flow, let my concepts go \\nMy posse's to the side yellin', Go Vanilla Go! \\n\\nSmooth 'cause that's the way I will be \\nAnd if you don't give a damn, then \\nWhy you starin' at me \\nSo get off 'cause I control the stage \\nThere's no dissin' allowed \\nI'm in my own phase \\nThe girlies sa y they love me and that is ok \\nAnd I can dance better than any kid n' play \\n\\nStage 2 -- Yea the one ya' wanna listen to \\nIt's off my head so let the beat play through \\nSo I can funk it up and make it sound good \\n1-2-3 Yo -- Knock on some wood \\nFor good luck, I like my rhymes atrocious \\nSupercalafragilisticexpialidocious \\nI'm an effect and that you can bet \\nI can take a fly girl and make her wet. \\n\\nI'm like Samson -- Samson to Delilah \\nThere's no denyin', You can try to hang \\nBut you'll keep tryin' to get my style \\nOver and over, practice makes perfect \\nBut not if you're a loafer. \\n\\nYou'll get nowhere, no place, no time, no girls \\nSoon -- Oh my God, homebody, you probably eat \\nSpaghetti with a spoon! Come on and say it! \\n\\nVIP. Vanilla Ice yep, yep, I'm comin' hard like a rhino \\nIntoxicating so you stagger like a wino \\nSo punks stop trying and girl stop cryin' \\nVanilla Ice is sellin' and you people are buyin' \\n'Cause why the freaks are jockin' like Crazy Glue \\nMovin' and groovin' trying to sing along \\nAll through the ghetto groovin' this here song \\nNow you're amazed by the VIP posse. \\n\\nSteppin' so hard like a German Nazi \\nStartled by the bases hittin' ground \\nThere's no trippin' on mine, I'm just gettin' down \\nSparkamatic, I'm hangin' tight like a fanatic \\nYou trapped me once and I thought that \\nYou might have it \\nSo step down and lend me your ear \\n'89 in my time! You, '90 is my year. \\n\\nYou're weakenin' fast, YO! and I can tell it \\nYour body's gettin' hot, so, so I can smell it \\nSo don't be mad and don't be sad \\n'Cause the lyrics belong to ICE, You can call me Dad \\nYou're pitchin' a fit, so step back and endure \\nLet the witch doctor, Ice, do the dance to cure \\nSo come up close and don't be square \\nYou wanna battle me -- Anytime, anywhere \\n\\nYou thought that I was weak, Boy, you're dead wrong \\nSo come on, everybody and sing this song \\n\\nSay -- Play that funky music Say, go white boy, go white boy go \\nplay that funky music Go white boy, go white boy, go \\nLay down and boogie and play that funky music till you die. \\n\\nPlay that funky music Come on, Come on, let me hear \\nPlay that funky music white boy you say it, say it \\nPlay that funky music A little louder now \\nPlay that funky music, white boy Come on, Come on, Come on \\nPlay that funky music \\n\\x04\\x04\\x04\\x04\""
      ]
     },
     "execution_count": 16,
     "metadata": {},
     "output_type": "execute_result"
    }
   ],
   "source": [
    "# s1c7\n",
    "# http://cryptopals.com/sets/1/challenges/7\n",
    "# Decrypt 7.txt with the key \"YELLOW SUBMARINE\". It's been encrypted using AES-128\n",
    "!pip install pycrypto\n",
    "import crypto\n",
    "import sys\n",
    "sys.modules['Crypto'] = crypto\n",
    "from Crypto.Cipher import AES\n",
    "\n",
    "cipher = base64.b64decode(open('7.txt').read())\n",
    "aes = AES.new('YELLOW SUBMARINE', AES.MODE_ECB)\n",
    "aes.decrypt(cipher)"
   ]
  },
  {
   "cell_type": "code",
   "execution_count": null,
   "metadata": {
    "collapsed": true
   },
   "outputs": [],
   "source": [
    "# s1c7\n",
    "# http://cryptopals.com/sets/1/challenges/7\n",
    "# Detect which line on 8.txt has been encrypted with AES in ECB mode\n",
    "\n"
   ]
  }
 ],
 "metadata": {
  "kernelspec": {
   "display_name": "Python 3",
   "language": "python",
   "name": "python3"
  },
  "language_info": {
   "codemirror_mode": {
    "name": "ipython",
    "version": 3
   },
   "file_extension": ".py",
   "mimetype": "text/x-python",
   "name": "python",
   "nbconvert_exporter": "python",
   "pygments_lexer": "ipython3",
   "version": "3.6.1"
  }
 },
 "nbformat": 4,
 "nbformat_minor": 2
}
