{
 "cells": [
  {
   "cell_type": "code",
   "execution_count": 1,
   "metadata": {},
   "outputs": [
    {
     "data": {
      "text/plain": [
       "b'YELLOW SUBMARINE\\x04\\x04\\x04\\x04'"
      ]
     },
     "execution_count": 1,
     "metadata": {},
     "output_type": "execute_result"
    }
   ],
   "source": [
    "# s2c9 Implement PKCS#7 padding\n",
    "#from Set1 import *\n",
    "def pad(b: bytes, block_size: int=16, protocol: str='pkcs7') -> bytes:\n",
    "    lb = len(b)\n",
    "    n_blocks, rem = divmod(lb, block_size)\n",
    "    if not rem:\n",
    "        return b\n",
    "    d = block_size-rem\n",
    "    return b+bytes(d for _ in range(d))\n",
    "\n",
    "\n",
    "pad(b'YELLOW SUBMARINE', 20)"
   ]
  },
  {
   "cell_type": "code",
   "execution_count": 6,
   "metadata": {},
   "outputs": [
    {
     "name": "stdout",
     "output_type": "stream",
     "text": [
      "b'Testing encryption and decryption with ECB'\n",
      "b'Testing encryption and decryption with CBC'\n"
     ]
    }
   ],
   "source": [
    "# These are some useful simple and flexible reference implementations of the modes.\n",
    "from typing import Callable, Generator\n",
    "from functools import reduce\n",
    "import operator\n",
    "\n",
    "# ToDo: Learn how to import in notebooks\n",
    "#import itertools\n",
    "#def xor_bytes(b1: bytes, b2: bytes, padding: int=0) -> bytes:\n",
    "#    return bytes(i^j for i,j in itertools.zip_longest(b1, b2, fillvalue=padding))\n",
    "\n",
    "def xor_bytes(b1: bytes, b2: bytes, padding: int=0) -> bytes:\n",
    "    #assert len(b1) == len(b2)\n",
    "    return bytes(i^j for i,j in zip(b1, b2))\n",
    "\n",
    "def blocks(l: bytes, n: int) -> Generator:  # ToDo: Learn how to declare a generator on mypy \n",
    "    for i in range(0, len(l), n):\n",
    "        yield l[i:i + n]\n",
    "\n",
    "def ecb(plaintext: bytes, key: bytes, f: Callable=xor_bytes) -> Generator:\n",
    "    for block in blocks(plaintext, len(key)):\n",
    "        yield f(block, key)\n",
    "\n",
    "def cbc_forward(plaintext: bytes, key: bytes, iv: bytes=None, f: Callable=xor_bytes) -> Generator:\n",
    "    if not iv:\n",
    "        iv = b'0'*len(key)\n",
    "    for block in blocks(plaintext, len(key)):\n",
    "        c = f(f(block, iv), key)\n",
    "        yield c\n",
    "        iv = c\n",
    "        \n",
    "def cbc_backwards(plaintext: bytes, key: bytes, iv: bytes=None, f: Callable=xor_bytes) -> Generator:\n",
    "    if not iv:\n",
    "        iv = b'0'*len(key)\n",
    "    for block in blocks(plaintext, len(key)):\n",
    "        c = f(f(block, key), iv)\n",
    "        yield c\n",
    "        iv = block\n",
    "        \n",
    "def crypt(plaintext: bytes, key: bytes, mode: Callable=ecb):\n",
    "    return reduce(operator.add, mode(plaintext, key))\n",
    "\n",
    "key = b'YELLOW SUBMARINE' \n",
    "print(crypt(crypt(b'Testing encryption and decryption with ECB', key, mode=ecb), key, mode=ecb))\n",
    "print(crypt(crypt(b'Testing encryption and decryption with CBC', key, mode=cbc_forward), key, mode=cbc_backwards))"
   ]
  },
  {
   "cell_type": "code",
   "execution_count": 3,
   "metadata": {},
   "outputs": [
    {
     "data": {
      "text/plain": [
       "b\"y\\x17]\\x10RQS[\\x10Q^T\\x10y\\x17] ringin' the bell \\nA rockin' on the mike while the fly girls yell \\nIn ecstasy in the back of me \\nWell that's my DJ Deshay cuttin' all them Z's \\nHittin' hard and the girlies goin' crazy \\nVanilla's on the mike, man I'm not lazy. \\n\\nI'm lettin' my drug kick in \\nIt controls my mouth and I begin \\nTo just let it flow, let my concepts go \\nMy posse's to the side yellin', Go Vanilla Go! \\n\\nSmooth 'cause that's the way I will be \\nAnd if you don't give a damn, then \\nWhy you starin' at me \\nSo get off 'cause I control the stage \\nThere's no dissin' allowed \\nI'm in my own phase \\nThe girlies sa y they love me and that is ok \\nAnd I can dance better than any kid n' play \\n\\nStage 2 -- Yea the one ya' wanna listen to \\nIt's off my head so let the beat play through \\nSo I can funk it up and make it sound good \\n1-2-3 Yo -- Knock on some wood \\nFor good luck, I like my rhymes atrocious \\nSupercalafragilisticexpialidocious \\nI'm an effect and that you can bet \\nI can take a fly girl and make her wet. \\n\\nI'm like Samson -- Samson to Delilah \\nThere's no denyin', You can try to hang \\nBut you'll keep tryin' to get my style \\nOver and over, practice makes perfect \\nBut not if you're a loafer. \\n\\nYou'll get nowhere, no place, no time, no girls \\nSoon -- Oh my God, homebody, you probably eat \\nSpaghetti with a spoon! Come on and say it! \\n\\nVIP. Vanilla Ice yep, yep, I'm comin' hard like a rhino \\nIntoxicating so you stagger like a wino \\nSo punks stop trying and girl stop cryin' \\nVanilla Ice is sellin' and you people are buyin' \\n'Cause why the freaks are jockin' like Crazy Glue \\nMovin' and groovin' trying to sing along \\nAll through the ghetto groovin' this here song \\nNow you're amazed by the VIP posse. \\n\\nSteppin' so hard like a German Nazi \\nStartled by the bases hittin' ground \\nThere's no trippin' on mine, I'm just gettin' down \\nSparkamatic, I'm hangin' tight like a fanatic \\nYou trapped me once and I thought that \\nYou might have it \\nSo step down and lend me your ear \\n'89 in my time! You, '90 is my year. \\n\\nYou're weakenin' fast, YO! and I can tell it \\nYour body's gettin' hot, so, so I can smell it \\nSo don't be mad and don't be sad \\n'Cause the lyrics belong to ICE, You can call me Dad \\nYou're pitchin' a fit, so step back and endure \\nLet the witch doctor, Ice, do the dance to cure \\nSo come up close and don't be square \\nYou wanna battle me -- Anytime, anywhere \\n\\nYou thought that I was weak, Boy, you're dead wrong \\nSo come on, everybody and sing this song \\n\\nSay -- Play that funky music Say, go white boy, go white boy go \\nplay that funky music Go white boy, go white boy, go \\nLay down and boogie and play that funky music till you die. \\n\\nPlay that funky music Come on, Come on, let me hear \\nPlay that funky music white boy you say it, say it \\nPlay that funky music A little louder now \\nPlay that funky music, white boy Come on, Come on, Come on \\nPlay that funky music \\n\\x04\\x04\\x04\\x04\""
      ]
     },
     "execution_count": 3,
     "metadata": {},
     "output_type": "execute_result"
    }
   ],
   "source": [
    "# s2c10 Implement CBC mode\n",
    "import base64\n",
    "import functools\n",
    "import crypto\n",
    "import sys\n",
    "sys.modules['Crypto'] = crypto\n",
    "from Crypto.Cipher import AES\n",
    "\n",
    "\n",
    "def aes_encrypt(block, key):\n",
    "    aes = AES.new(key, AES.MODE_ECB)\n",
    "    return aes.encrypt(block)\n",
    "aes_f = functools.partial(cbc_forward, f=aes_encrypt)\n",
    "\n",
    "def aes_cbc_forward(plaintext: bytes, key: bytes, iv: bytes=None) -> Generator:\n",
    "    if not iv:\n",
    "        iv = b'0'*len(key)\n",
    "    aes = AES.new(key, AES.MODE_ECB)\n",
    "    for block in blocks(plaintext, len(key)):\n",
    "        c = aes.encrypt(xor_bytes(block, iv))\n",
    "        yield c\n",
    "        iv = c\n",
    "        \n",
    "def aes_cbc_backwards(plaintext: bytes, key: bytes, iv: bytes=None) -> Generator:\n",
    "    if not iv:\n",
    "        iv = b'0'*len(key)\n",
    "    aes = AES.new(key, AES.MODE_ECB)\n",
    "    for block in blocks(plaintext, len(key)):\n",
    "        c = xor_bytes(aes.decrypt(block), iv)\n",
    "        yield c\n",
    "        iv = block\n",
    "\n",
    "key = b'YELLOW SUBMARINE'\n",
    "crypt(crypt(pad(b'Testing encryption and decryption with CBC'), key, mode=aes_cbc_forward), key, mode=aes_cbc_backwards)\n",
    "\n",
    "cipher = base64.b64decode(open('10.txt').read())\n",
    "\n",
    "#test\n",
    "aes = AES.new(b'YELLOW SUBMARINE', AES.MODE_CBC, b'0'*16)\n",
    "assert aes.decrypt(cipher) == crypt(cipher, b'YELLOW SUBMARINE', mode=aes_cbc_backwards)\n",
    "\n",
    "crypt(cipher, b'YELLOW SUBMARINE', mode=aes_cbc_backwards)"
   ]
  },
  {
   "cell_type": "code",
   "execution_count": null,
   "metadata": {
    "collapsed": true
   },
   "outputs": [],
   "source": [
    "# s2c11\n",
    "# An ECB/CBC detection oracle\n",
    "\n"
   ]
  }
 ],
 "metadata": {
  "kernelspec": {
   "display_name": "Python 3",
   "language": "python",
   "name": "python3"
  },
  "language_info": {
   "codemirror_mode": {
    "name": "ipython",
    "version": 3
   },
   "file_extension": ".py",
   "mimetype": "text/x-python",
   "name": "python",
   "nbconvert_exporter": "python",
   "pygments_lexer": "ipython3",
   "version": "3.6.1"
  }
 },
 "nbformat": 4,
 "nbformat_minor": 2
}
